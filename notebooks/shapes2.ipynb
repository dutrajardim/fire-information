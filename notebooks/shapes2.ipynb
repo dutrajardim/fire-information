{
 "cells": [
  {
   "cell_type": "code",
   "execution_count": 15,
   "metadata": {},
   "outputs": [],
   "source": [
    "import configparser\n",
    "\n",
    "from pyspark.conf import SparkConf\n",
    "from pyspark.sql import SparkSession\n",
    "from pyspark.sql.functions import (expr, broadcast)\n",
    "from pyspark.sql.types import (StructType, StructField, IntegerType, StringType, FloatType, TimestampType)\n",
    "\n",
    "from sedona.register import SedonaRegistrator\n",
    "from sedona.utils import (KryoSerializer, SedonaKryoRegistrator)\n",
    "from sedona.core.enums import (GridType, IndexType)\n",
    "from sedona.core.spatialOperator import JoinQueryRaw\n",
    "from sedona.utils.adapter import Adapter\n",
    "\n",
    "import re"
   ]
  },
  {
   "cell_type": "code",
   "execution_count": 2,
   "metadata": {},
   "outputs": [],
   "source": [
    "sparkConf = SparkConf()\n",
    "parser = configparser.ConfigParser()\n",
    "parser.optionxform=str\n",
    "parser.read_file(open('../sparkconf.cfg'))\n",
    "\n",
    "for section, config in parser.items():\n",
    "    for key, value in config.items():\n",
    "        sparkConf.set(key, value)\n",
    "\n",
    "sparkConf.set(\"spark.serializer\", KryoSerializer.getName)\n",
    "sparkConf.set(\"spark.kryo.registrator\", SedonaKryoRegistrator.getName)\n",
    "sparkConf.set(\"spark.kryoserializer.buffer.max\", \"512\")\n",
    "\n",
    "spark = SparkSession.builder.config(conf=sparkConf).getOrCreate()"
   ]
  },
  {
   "cell_type": "code",
   "execution_count": 3,
   "metadata": {},
   "outputs": [
    {
     "name": "stderr",
     "output_type": "stream",
     "text": [
      "                                                                                \r"
     ]
    },
    {
     "data": {
      "text/html": [
       "\n",
       "            <div>\n",
       "                <p><b>SparkSession - in-memory</b></p>\n",
       "                \n",
       "        <div>\n",
       "            <p><b>SparkContext</b></p>\n",
       "\n",
       "            <p><a href=\"http://192.168.100.38:4040\">Spark UI</a></p>\n",
       "\n",
       "            <dl>\n",
       "              <dt>Version</dt>\n",
       "                <dd><code>v3.2.0</code></dd>\n",
       "              <dt>Master</dt>\n",
       "                <dd><code>k8s://127.0.0.1:16443</code></dd>\n",
       "              <dt>AppName</dt>\n",
       "                <dd><code>Local spark session</code></dd>\n",
       "            </dl>\n",
       "        </div>\n",
       "        \n",
       "            </div>\n",
       "        "
      ],
      "text/plain": [
       "<pyspark.sql.session.SparkSession at 0x7f75504b3b50>"
      ]
     },
     "execution_count": 3,
     "metadata": {},
     "output_type": "execute_result"
    }
   ],
   "source": [
    "SedonaRegistrator.registerAll(spark)\n",
    "spark"
   ]
  },
  {
   "cell_type": "code",
   "execution_count": 88,
   "metadata": {},
   "outputs": [
    {
     "name": "stderr",
     "output_type": "stream",
     "text": [
      "                                                                                \r"
     ]
    }
   ],
   "source": [
    "df_adm = spark.read.format(\"json\").load(\"s3a://dutrajardim-fi/src/shapes/osm/*\")\n",
    "df_children = df_adm.selectExpr(\"admin_level\", \"osm_id\", \"name\", \"EXPLODE_OUTER(SPLIT(parents, ',')) AS parent_id\")\n",
    "\n",
    "# adm will be parent in the relation\n",
    "parent = df_adm.selectExpr(\"admin_level AS parent_level\", \"osm_id AS parent_id\", \"name AS parent_name\").alias(\"parent\")\n",
    "children = df_children.selectExpr(\"admin_level AS adm\", \"osm_id AS id\" , \"parent_id\", \"name\").alias(\"children\")\n",
    "\n",
    "# get children with their parents\n",
    "df_relations = parent.join(children, \"parent_id\", \"right\")\n",
    "\n",
    "# group by children and make set relations in rows to columns\n",
    "pt_relations = df_relations.groupBy([\"adm\", \"id\", \"name\"]).pivot(\"parent_level\").agg(expr(\"FIRST(parent_id) AS adm\"), expr(\"FIRST(parent_name) AS adm_name\"))\n",
    "\n",
    "pt_relations = pt_relations.drop('null_adm', 'null_adm_name')\n",
    "\n",
    "pattern = re.compile(\"^(([0-9]{,2})_adm(_name)?)$\")\n",
    "columns_to_rename = [pattern.match(column).groups() for column in pt_relations.columns if pattern.match(column)]\n",
    "for col, adm_id, is_name in columns_to_rename:\n",
    "    pt_relations = pt_relations.withColumnRenamed(col, f\"adm{adm_id}_name\" if is_name else f\"adm{adm_id}\")"
   ]
  },
  {
   "cell_type": "code",
   "execution_count": 90,
   "metadata": {},
   "outputs": [
    {
     "name": "stderr",
     "output_type": "stream",
     "text": [
      "                                                                                \r"
     ]
    }
   ],
   "source": [
    "(\n",
    "    pt_relations.repartition(\"adm\")\n",
    "    .write.partitionBy(\"adm\")\n",
    "    .mode(\"overwrite\")\n",
    "    .format(\"parquet\")\n",
    "    .save(\"s3a://dutrajardim-fi/tables/shapes/osm/relations.parquet\")\n",
    ")"
   ]
  },
  {
   "cell_type": "code",
   "execution_count": 96,
   "metadata": {},
   "outputs": [
    {
     "name": "stderr",
     "output_type": "stream",
     "text": [
      "                                                                                \r"
     ]
    }
   ],
   "source": [
    "( \n",
    "    df_adm.selectExpr(\"geom AS geometry\", \"admin_level AS adm\", \"osm_id AS id\")\n",
    "    .repartition(\"adm\")\n",
    "    .write.partitionBy(\"adm\")\n",
    "    .option(\"maxRecordsPerFile\", 500) \n",
    "    .mode(\"overwrite\")\n",
    "    .format(\"parquet\")\n",
    "    .save(\"s3a://dutrajardim-fi/tables/shapes/osm/shapes.parquet\")\n",
    ")"
   ]
  },
  {
   "cell_type": "code",
   "execution_count": 97,
   "metadata": {},
   "outputs": [
    {
     "name": "stderr",
     "output_type": "stream",
     "text": [
      "22/04/03 19:03:13 WARN ExecutorPodsWatchSnapshotSource: Kubernetes client has been closed.\n"
     ]
    }
   ],
   "source": [
    "spark.stop()"
   ]
  },
  {
   "cell_type": "code",
   "execution_count": null,
   "metadata": {},
   "outputs": [],
   "source": []
  }
 ],
 "metadata": {
  "interpreter": {
   "hash": "c77c8bc99c5ca9a742a1959efc4a0de604832b3555d74770d62233220eb12265"
  },
  "kernelspec": {
   "display_name": "Python 3.9.9 ('.venv': venv)",
   "language": "python",
   "name": "python3"
  },
  "language_info": {
   "codemirror_mode": {
    "name": "ipython",
    "version": 3
   },
   "file_extension": ".py",
   "mimetype": "text/x-python",
   "name": "python",
   "nbconvert_exporter": "python",
   "pygments_lexer": "ipython3",
   "version": "3.9.9"
  },
  "orig_nbformat": 4
 },
 "nbformat": 4,
 "nbformat_minor": 2
}
